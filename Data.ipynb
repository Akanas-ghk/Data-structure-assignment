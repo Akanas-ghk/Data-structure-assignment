{
  "nbformat": 4,
  "nbformat_minor": 0,
  "metadata": {
    "colab": {
      "provenance": []
    },
    "kernelspec": {
      "name": "python3",
      "display_name": "Python 3"
    },
    "language_info": {
      "name": "python"
    }
  },
  "cells": [
    {
      "cell_type": "markdown",
      "source": [
        "# **Data Types and Structures Questions**"
      ],
      "metadata": {
        "id": "nO-J1AM9Mvzc"
      }
    },
    {
      "cell_type": "markdown",
      "source": [
        "# **Q1. What are data structures, and why are they important?**"
      ],
      "metadata": {
        "id": "Weg0QX95PIhb"
      }
    },
    {
      "cell_type": "markdown",
      "source": [
        "Data structures are organized ways to store, manage, and retrieve data efficiently. They include arrays, linked lists, stacks, queues, trees, and graphs. They are crucial for optimizing algorithms, enhancing performance, and solving complex problems in computing, enabling efficient data access, manipulation, and storage in software development and computer science."
      ],
      "metadata": {
        "id": "H9fR_nIQPV2N"
      }
    },
    {
      "cell_type": "markdown",
      "source": [
        "# **Q2. Explain the difference between mutable and immutable data types with examples**"
      ],
      "metadata": {
        "id": "EWcnJk_CPivf"
      }
    },
    {
      "cell_type": "markdown",
      "source": [
        "Mutable data types can be changed after creation, while immutable data types cannot.  \n",
        "\n",
        "### **Mutable Data Types:**  \n",
        "- Lists (`list`): `my_list = [1, 2, 3]; my_list.append(4)` → `[1, 2, 3, 4]`  \n",
        "- Dictionaries (`dict`): `my_dict = {\"a\": 1}; my_dict[\"b\"] = 2` → `{\"a\": 1, \"b\": 2}`  \n",
        "\n",
        "### **Immutable Data Types:**  \n",
        "- Strings (`str`): `\"hello\"[0] = \"H\"` ❌ (Error)  \n",
        "- Tuples (`tuple`): `(1, 2, 3)[0] = 4` ❌ (Error)  \n",
        "\n",
        "Mutability affects memory usage, performance, and security, influencing how data is stored and manipulated in programming."
      ],
      "metadata": {
        "id": "Oo9G83IeP4uD"
      }
    },
    {
      "cell_type": "markdown",
      "source": [
        "# **Q3.What are the main differences between lists and tuples in Python?**"
      ],
      "metadata": {
        "id": "FHNzYMzaQPZo"
      }
    },
    {
      "cell_type": "markdown",
      "source": [
        "Lists are mutable, allowing modifications, while tuples are immutable, preventing changes after creation. Lists use more memory and are slower due to dynamic resizing, whereas tuples are memory-efficient and faster. Lists support more built-in functions, while tuples provide data integrity. Lists use square brackets (`[ ]`), and tuples use parentheses (`( )`). Tuples are ideal for fixed data, while lists are suitable for dynamic collections."
      ],
      "metadata": {
        "id": "0oC-VGuuQfI6"
      }
    },
    {
      "cell_type": "markdown",
      "source": [
        "# **Q4.Describe how dictionaries store data**"
      ],
      "metadata": {
        "id": "zNunXJE3QqTm"
      }
    },
    {
      "cell_type": "markdown",
      "source": [
        "Dictionaries in Python store data as key-value pairs using a **hash table**. Each key is hashed to determine its unique memory location, enabling fast lookups, insertions, and deletions. Keys must be immutable (e.g., strings, numbers, tuples), while values can be any data type. Dictionaries maintain order (Python 3.7+), ensuring efficient data retrieval. Their optimized structure allows quick access compared to lists and tuples."
      ],
      "metadata": {
        "id": "5rGNpqM5Q5dn"
      }
    },
    {
      "cell_type": "markdown",
      "source": [
        "# **Q5.Why might you use a set instead of a list in Python?**"
      ],
      "metadata": {
        "id": "pkhYErcVRFGF"
      }
    },
    {
      "cell_type": "markdown",
      "source": [
        "You might use a set instead of a list in Python for the following reasons:\n",
        "\n",
        "1. **Uniqueness**: Sets automatically remove duplicate values, ensuring only unique items.\n",
        "2. **Faster membership testing**: Sets provide faster lookups (O(1) on average) compared to lists (O(n)).\n",
        "3. **Mathematical operations**: Sets support operations like union, intersection, and difference, which are useful for set theory-based problems.\n",
        "4. **Efficiency**: Sets use less memory for large collections of unique items than lists."
      ],
      "metadata": {
        "id": "DINkxloRRdSg"
      }
    },
    {
      "cell_type": "markdown",
      "source": [
        "# **Q6.What is a string in Python, and how is it different from a list?**"
      ],
      "metadata": {
        "id": "a5Jq0dKORmmH"
      }
    },
    {
      "cell_type": "markdown",
      "source": [
        "A string in Python is a sequence of characters enclosed in quotes (single, double, or triple). It is immutable, meaning it cannot be modified after creation. A list, on the other hand, is a mutable collection that can store various data types (including strings) and supports modifications like appending or changing elements. Strings are for text manipulation, while lists are versatile containers for ordered collections of any data type."
      ],
      "metadata": {
        "id": "wU0zRav4RyVo"
      }
    },
    {
      "cell_type": "markdown",
      "source": [
        "# **Q7. How do tuples ensure data integrity in Python?**"
      ],
      "metadata": {
        "id": "JX35nvQOR9DE"
      }
    },
    {
      "cell_type": "markdown",
      "source": [
        "Tuples ensure data integrity in Python by being immutable, meaning once created, their elements cannot be altered, added, or removed. This guarantees that the data remains unchanged throughout the program. Since tuples cannot be modified, they prevent accidental or intentional data corruption, offering reliability when used to represent constant data. Their immutability makes them useful for ensuring the integrity of critical values in functions or across programs."
      ],
      "metadata": {
        "id": "7Y4t8ApCSOv_"
      }
    },
    {
      "cell_type": "markdown",
      "source": [
        "# **Q8. What is a hash table, and how does it relate to dictionaries in Python?**"
      ],
      "metadata": {
        "id": "FeJSh9wVSa--"
      }
    },
    {
      "cell_type": "markdown",
      "source": [
        "A hash table is a data structure that stores key-value pairs, using a hash function to compute an index (hash) where the value is stored. In Python, dictionaries use a hash table to efficiently map keys to their corresponding values. This allows for fast lookups, insertions, and deletions, typically with constant time complexity (O(1)) on average. The keys in a dictionary are hashed to ensure quick access."
      ],
      "metadata": {
        "id": "oc2RK0khSnPU"
      }
    },
    {
      "cell_type": "markdown",
      "source": [
        "# **Q9. Can lists contain different data types in Python?**"
      ],
      "metadata": {
        "id": "ZAmGAb7-S0Vh"
      }
    },
    {
      "cell_type": "markdown",
      "source": [
        "es, in Python, lists can contain elements of different data types, such as integers, strings, floats, and even other lists.his flexibility allows for versatile data structures.or example, a list can be defined as `my_list = [1, \"hello\", 3.14, True]`, where it contains an integer, a string, a float, and a boolean value."
      ],
      "metadata": {
        "id": "mpujO68wX1Ht"
      }
    },
    {
      "cell_type": "markdown",
      "source": [
        "# Q10. **Explain why strings are immutable in Python**"
      ],
      "metadata": {
        "id": "LiYY8NklYOhW"
      }
    },
    {
      "cell_type": "markdown",
      "source": [
        " Python, strings are immutable, meaning their content cannot be changed after creation.his design choice enhances performance by allowing memory optimization techniques like interning and copy-on-write.t also ensures hash consistency, making strings reliable keys in dictionaries.dditionally, immutability provides thread safety, as strings can be shared across threads without synchronization concerns.verall, immutability leads to safer and more predictable code.citeturn0search1"
      ],
      "metadata": {
        "id": "pM8gDCmRYnw-"
      }
    },
    {
      "cell_type": "markdown",
      "source": [
        "# **Q11. What advantages do dictionaries offer over lists for certain tasks?**"
      ],
      "metadata": {
        "id": "iPIme-RDYt_h"
      }
    },
    {
      "cell_type": "markdown",
      "source": [
        "ictionaries in Python offer efficient data retrieval through unique keys, enabling rapid lookups compared to lists.hey provide a clear association between keys and values, enhancing code readability.ictionaries are ideal for representing structured data, such as mappings or records, where relationships between elements are crucial.owever, unlike lists, dictionaries do not maintain element order."
      ],
      "metadata": {
        "id": "KB8uaoWpZAs6"
      }
    },
    {
      "cell_type": "markdown",
      "source": [
        "# **Q12.Describe a scenario where using a tuple would be preferable over a list**"
      ],
      "metadata": {
        "id": "GyJTrN20ZIVG"
      }
    },
    {
      "cell_type": "markdown",
      "source": [
        " Python, tuples are immutable and can be used as keys in dictionaries, whereas lists are mutable and cannot.herefore, when you need to create a composite key for a dictionary, using a tuple is preferable.or example, to map coordinates to city names, you can use a tuple as the key: `locations = {(40.7128, -74.0060): \"New York\", (34.0522, -118.2437): \"Los Angeles\"}`.his ensures the keys remain unchanged."
      ],
      "metadata": {
        "id": "92ZJ7fWTZrDT"
      }
    },
    {
      "cell_type": "markdown",
      "source": [
        "# **Q13.How do sets handle duplicate values in Python?**"
      ],
      "metadata": {
        "id": "LKyMXJs8Z5kc"
      }
    },
    {
      "cell_type": "markdown",
      "source": [
        "Python, sets automatically eliminate duplicate values upon creation or insertion.hen a set is initialized or an element is added, any duplicate entries are discarded, ensuring each element is unique.or example, `my_set = {1, 2, 2, 3}` results in `{1, 2, 3}`.his behavior is fundamental to sets, which are designed to store only unique items."
      ],
      "metadata": {
        "id": "rJMo8d71aN1j"
      }
    },
    {
      "cell_type": "markdown",
      "source": [
        "# **Q14.How does the “in” keyword work differently for lists and dictionaries?**"
      ],
      "metadata": {
        "id": "x9lQTqEEabtB"
      }
    },
    {
      "cell_type": "markdown",
      "source": [
        "In Python, the `in` keyword is used to check for the presence of an element within a collection.hen applied to a **list**, `in` checks if a specified value exists among the list's elements.or example, `3 in [1, 2, 3]` returns `True`.n contrast, when used with a **dictionary**, `in` checks for the existence of a specified key, not a value.or instance, in `my_dict = {'a': 1, 'b': 2}`, `'a' in my_dict` returns `True`, while `1 in my_dict` returns `False`.o check for a value in a dictionary, you can use `'value' in my_dict.values()`."
      ],
      "metadata": {
        "id": "an__tOflatsG"
      }
    },
    {
      "cell_type": "markdown",
      "source": [
        "# **Q15.Can you modify the elements of a tuple? Explain why or why not**"
      ],
      "metadata": {
        "id": "q90IA_yUa_aS"
      }
    },
    {
      "cell_type": "markdown",
      "source": [
        "In Python, tuples are immutable, meaning their elements cannot be changed after creation.his immutability ensures that once a tuple is defined, its contents remain constant throughout the program.ttempting to modify an element of a tuple will result in a `TypeError`.owever, if a tuple contains mutable elements, such as lists, the mutable elements can be changed, but the tuple's structure itself remains unchanged."
      ],
      "metadata": {
        "id": "2QhrMFxRbVpH"
      }
    },
    {
      "cell_type": "markdown",
      "source": [
        "# **Q16. What is a nested dictionary, and give an example of its use case?**"
      ],
      "metadata": {
        "id": "NCemNNp9bs5a"
      }
    },
    {
      "cell_type": "markdown",
      "source": [
        "In Python, a nested dictionary is a dictionary within another dictionary, allowing for hierarchical data storage. This structure is useful for representing complex data relationships. For example, managing a company's departments and employees:"
      ],
      "metadata": {
        "id": "bVfWWT2fcP2C"
      }
    },
    {
      "cell_type": "code",
      "source": [
        "company = {\n",
        "    'Sales': {'Alice': 'Manager', 'Bob': 'Salesperson'},\n",
        "    'IT': {'Charlie': 'Developer', 'David': 'Analyst'}\n",
        "}\n"
      ],
      "metadata": {
        "id": "Zco6Q75ucaHr"
      },
      "execution_count": null,
      "outputs": []
    },
    {
      "cell_type": "markdown",
      "source": [
        "Here, company contains departments as keys, each mapping to another dictionary of employees and their roles.\n"
      ],
      "metadata": {
        "id": "o8ruj1YQcqVf"
      }
    },
    {
      "cell_type": "markdown",
      "source": [
        "# **Q17.Describe the time complexity of accessing elements in a dictionary**"
      ],
      "metadata": {
        "id": "Orz3r4AicySm"
      }
    },
    {
      "cell_type": "markdown",
      "source": [
        "n Python, dictionaries are implemented using hash tables, which allow for efficient data retrieval.he average time complexity for accessing an element by its key is O(1), meaning it takes constant time regardless of the dictionary's size.owever, in the worst-case scenario, such as when many keys hash to the same value (causing collisions), the time complexity can degrade to O(n), where n is the number of elements in the dictionary.his degradation is rare with a good hash function."
      ],
      "metadata": {
        "id": "6n4T1XAqdIzV"
      }
    },
    {
      "cell_type": "markdown",
      "source": [
        "# **Q18.In what situations are lists preferred over dictionaries?**"
      ],
      "metadata": {
        "id": "PSpNCI-wd0Js"
      }
    },
    {
      "cell_type": "markdown",
      "source": [
        "In Python, lists are your go-to when you need an ordered, mutable collection that allows duplicates. They're perfect for sequences where the position of elements matters, like iterations or indexing. If you're dealing with homogeneous data without the need for key-value pairs, lists keep things straightforward. Think of them like a train—order is crucial, and each car (element) holds its place."
      ],
      "metadata": {
        "id": "VYAzrRsdeDN4"
      }
    },
    {
      "cell_type": "markdown",
      "source": [
        "# **Q19.Why are dictionaries considered unordered, and how does that affect data retrieval?**"
      ],
      "metadata": {
        "id": "E_htXLR_gKpf"
      }
    },
    {
      "cell_type": "markdown",
      "source": [
        "In Python, dictionaries are unordered because they store key-value pairs using a hash function, which assigns keys to positions in memory without considering insertion order. This means when you iterate over a dictionary, the items may appear in an unpredictable order. Data retrieval is efficient—accessing values by keys is fast (O(1) time)—but you can't rely on item order, which can be problematic if your code depends on sequence."
      ],
      "metadata": {
        "id": "y-2hfOP6h-2k"
      }
    },
    {
      "cell_type": "markdown",
      "source": [
        "# **Q20.Explain the difference between a list and a dictionary in terms of data retrieval.**"
      ],
      "metadata": {
        "id": "wW_okOrui9Ku"
      }
    },
    {
      "cell_type": "markdown",
      "source": [
        "In Python, lists are ordered collections accessed by integer indices—like grabbing books from numbered shelves using `my_list[0]`. Retrieval is fast, and the items maintain their sequence. Dictionaries are unordered collections accessed by unique keys—like retrieving items from a locker using `my_dict['key']`. They offer quick lookups but don't preserve order. The key difference: lists retrieve by position with order intact; dictionaries retrieve by key without guaranteed order."
      ],
      "metadata": {
        "id": "iMiu9qO_jgZA"
      }
    },
    {
      "cell_type": "markdown",
      "source": [
        "# **PRACTICAL QUESTION**"
      ],
      "metadata": {
        "id": "EtAEOsKBjoZl"
      }
    },
    {
      "cell_type": "markdown",
      "source": [
        "# **Q1.Write a code to create a string with your name and print it**"
      ],
      "metadata": {
        "id": "DgknJxEmjy0X"
      }
    },
    {
      "cell_type": "code",
      "source": [
        "# Define a string variable with my name\n",
        "my_name = \"ANAS\"\n",
        "\n",
        "# Print the string to the console\n",
        "print(my_name)\n"
      ],
      "metadata": {
        "colab": {
          "base_uri": "https://localhost:8080/"
        },
        "id": "W-iX4zPskQgW",
        "outputId": "3c0b6c25-6c60-4f09-ea71-a08213a8e5f2"
      },
      "execution_count": null,
      "outputs": [
        {
          "output_type": "stream",
          "name": "stdout",
          "text": [
            "ANAS\n"
          ]
        }
      ]
    },
    {
      "cell_type": "markdown",
      "source": [
        "Q2. Write a code to find the length of the string \"Hello World\""
      ],
      "metadata": {
        "id": "vpAOWWlTkohH"
      }
    },
    {
      "cell_type": "code",
      "source": [
        "len(\"Hello World\")"
      ],
      "metadata": {
        "colab": {
          "base_uri": "https://localhost:8080/"
        },
        "id": "wb__wA8Uk5jU",
        "outputId": "00e88db5-7d11-406a-bce1-53fff9d4edc2"
      },
      "execution_count": null,
      "outputs": [
        {
          "output_type": "execute_result",
          "data": {
            "text/plain": [
              "11"
            ]
          },
          "metadata": {},
          "execution_count": 4
        }
      ]
    },
    {
      "cell_type": "markdown",
      "source": [
        "# **Q3.Write a code to slice the first 3 characters from the string \"Python Programming\"**"
      ],
      "metadata": {
        "id": "onRFYUCrmOif"
      }
    },
    {
      "cell_type": "code",
      "source": [
        "# Define the original string\n",
        "original_string = \"Python Programming\"\n",
        "\n",
        "# Slice the first three characters\n",
        "first_three_chars = original_string[:3]\n",
        "\n",
        "# Print the result\n",
        "print(first_three_chars)\n"
      ],
      "metadata": {
        "colab": {
          "base_uri": "https://localhost:8080/"
        },
        "id": "Pj7sWm8GmwFu",
        "outputId": "0fb637b3-e0c8-4b21-ce27-f420a717c6a4"
      },
      "execution_count": null,
      "outputs": [
        {
          "output_type": "stream",
          "name": "stdout",
          "text": [
            "Pyt\n"
          ]
        }
      ]
    },
    {
      "cell_type": "markdown",
      "source": [
        "# **Q4.Write a code to convert the string \"hello\" to uppercase**"
      ],
      "metadata": {
        "id": "xAIOrKsHnDN4"
      }
    },
    {
      "cell_type": "code",
      "source": [
        "# Define the original string\n",
        "original_string = \"hello\"\n",
        "\n",
        "# Convert the string to uppercase\n",
        "uppercase_string = original_string.upper()\n",
        "\n",
        "# Print the result\n",
        "print(uppercase_string)\n"
      ],
      "metadata": {
        "colab": {
          "base_uri": "https://localhost:8080/"
        },
        "id": "SOhkpzaNnj32",
        "outputId": "8b74b6ae-802b-4125-8f58-6aa681f66c40"
      },
      "execution_count": null,
      "outputs": [
        {
          "output_type": "stream",
          "name": "stdout",
          "text": [
            "HELLO\n"
          ]
        }
      ]
    },
    {
      "cell_type": "markdown",
      "source": [
        "# **Q5. Write a code to replace the word \"apple\" with \"orange\" in the string \"I like apple\"**"
      ],
      "metadata": {
        "id": "wxZyp6EroTs7"
      }
    },
    {
      "cell_type": "code",
      "source": [
        "# Original string\n",
        "original_string = \"I like apple\"\n",
        "\n",
        "# Replace \"apple\" with \"orange\"\n",
        "modified_string = original_string.replace(\"apple\", \"orange\")\n",
        "\n",
        "# Print the result\n",
        "print(modified_string)\n"
      ],
      "metadata": {
        "colab": {
          "base_uri": "https://localhost:8080/"
        },
        "id": "fuUkkKWwtTc-",
        "outputId": "1ee11f14-e814-448f-ccf6-70aff8475368"
      },
      "execution_count": null,
      "outputs": [
        {
          "output_type": "stream",
          "name": "stdout",
          "text": [
            "I like orange\n"
          ]
        }
      ]
    },
    {
      "cell_type": "markdown",
      "source": [
        "# **Q6.Write a code to create a list with numbers 1 to 5 and print it**"
      ],
      "metadata": {
        "id": "exPicNSntqwc"
      }
    },
    {
      "cell_type": "code",
      "source": [
        "# Create a list with numbers 1 to 5\n",
        "numbers = [1, 2, 3, 4, 5]\n",
        "\n",
        "# Print the list\n",
        "print(numbers)\n"
      ],
      "metadata": {
        "colab": {
          "base_uri": "https://localhost:8080/"
        },
        "id": "yI0SSKi9urcU",
        "outputId": "cd4d41c4-0944-49c0-f875-0cc6b5c53a42"
      },
      "execution_count": null,
      "outputs": [
        {
          "output_type": "stream",
          "name": "stdout",
          "text": [
            "[1, 2, 3, 4, 5]\n"
          ]
        }
      ]
    },
    {
      "cell_type": "markdown",
      "source": [
        "# **Q7. Write a code to append the number 10 to the list [1, 2, 3, 4]**"
      ],
      "metadata": {
        "id": "GhM83hLBu2gN"
      }
    },
    {
      "cell_type": "code",
      "source": [
        "# Original list\n",
        "numbers = [1, 2, 3, 4]\n",
        "\n",
        "# Append 10 to the list\n",
        "numbers.append(10)\n",
        "\n",
        "# Print the updated list\n",
        "print(numbers)\n"
      ],
      "metadata": {
        "colab": {
          "base_uri": "https://localhost:8080/"
        },
        "id": "H18DnRVhvEuG",
        "outputId": "ae80c044-5246-453b-8b93-c4163ac8c953"
      },
      "execution_count": null,
      "outputs": [
        {
          "output_type": "stream",
          "name": "stdout",
          "text": [
            "[1, 2, 3, 4, 10]\n"
          ]
        }
      ]
    },
    {
      "cell_type": "markdown",
      "source": [
        "# **Q8.Write a code to remove the number 3 from the list [1, 2, 3, 4, 5]**"
      ],
      "metadata": {
        "id": "gx4BT1wsvamm"
      }
    },
    {
      "cell_type": "code",
      "source": [
        "# Original list\n",
        "numbers = [1, 2, 3, 4, 5]\n",
        "\n",
        "# Remove the number 3 from the list\n",
        "numbers.remove(3)\n",
        "\n",
        "# Print the updated list\n",
        "print(numbers)\n"
      ],
      "metadata": {
        "colab": {
          "base_uri": "https://localhost:8080/"
        },
        "id": "MClTPHXhvt6S",
        "outputId": "38e0064c-45f5-46db-bc89-6523adc094a7"
      },
      "execution_count": null,
      "outputs": [
        {
          "output_type": "stream",
          "name": "stdout",
          "text": [
            "[1, 2, 4, 5]\n"
          ]
        }
      ]
    },
    {
      "cell_type": "markdown",
      "source": [
        "# **Q9.Write a code to access the second element in the list ['a', 'b', 'c', 'd']**"
      ],
      "metadata": {
        "id": "7EMqeayMwOjZ"
      }
    },
    {
      "cell_type": "code",
      "source": [
        "# Define the list\n",
        "my_list = ['a', 'b', 'c', 'd']\n",
        "\n",
        "# Access the second element (index 1)\n",
        "second_element = my_list[1]\n",
        "\n",
        "# Print the second element\n",
        "print(second_element)\n"
      ],
      "metadata": {
        "colab": {
          "base_uri": "https://localhost:8080/"
        },
        "id": "8quCmhU0wpjv",
        "outputId": "ac235133-c7be-4565-bd8c-7c7d9be06908"
      },
      "execution_count": null,
      "outputs": [
        {
          "output_type": "stream",
          "name": "stdout",
          "text": [
            "b\n"
          ]
        }
      ]
    },
    {
      "cell_type": "markdown",
      "source": [
        "Q10.Write a code to reverse the list [10, 20, 30, 40, 50]"
      ],
      "metadata": {
        "id": "cnY4nTNBw-4_"
      }
    },
    {
      "cell_type": "code",
      "source": [
        "# Original list\n",
        "numbers = [10, 20, 30, 40, 50]\n",
        "\n",
        "# Reverse the list in place\n",
        "numbers.reverse()\n",
        "\n",
        "# Print the reversed list\n",
        "print(numbers)\n"
      ],
      "metadata": {
        "colab": {
          "base_uri": "https://localhost:8080/"
        },
        "id": "jy3FuzalxRXX",
        "outputId": "f45ea2f6-dfab-4612-b025-a82c69cfe8bd"
      },
      "execution_count": null,
      "outputs": [
        {
          "output_type": "stream",
          "name": "stdout",
          "text": [
            "[50, 40, 30, 20, 10]\n"
          ]
        }
      ]
    },
    {
      "cell_type": "markdown",
      "source": [
        "# **Q11 Write a code to create a tuple with the elements 100, 200, 300 and print it.**"
      ],
      "metadata": {
        "id": "cbVCs4zyxlOe"
      }
    },
    {
      "cell_type": "code",
      "source": [
        "# Creating a tuple\n",
        "my_tuple = (100, 200, 300)\n",
        "\n",
        "# Printing the tuple\n",
        "print(my_tuple)\n"
      ],
      "metadata": {
        "colab": {
          "base_uri": "https://localhost:8080/"
        },
        "id": "LTnS1Og6KICA",
        "outputId": "8e89612a-2272-4155-bf5e-00291f342871"
      },
      "execution_count": null,
      "outputs": [
        {
          "output_type": "stream",
          "name": "stdout",
          "text": [
            "(100, 200, 300)\n"
          ]
        }
      ]
    },
    {
      "cell_type": "markdown",
      "source": [
        "# **Q12.Write a code to access the second-to-last element of the tuple ('red', 'green', 'blue', 'yellow')**"
      ],
      "metadata": {
        "id": "uMDAg1GqKdO3"
      }
    },
    {
      "cell_type": "code",
      "source": [
        "# Creating the tuple\n",
        "colors = ('red', 'green', 'blue', 'yellow')\n",
        "\n",
        "# Accessing the second-to-last element\n",
        "second_to_last = colors[-2]\n",
        "\n",
        "# Printing the element\n",
        "print(second_to_last)\n"
      ],
      "metadata": {
        "colab": {
          "base_uri": "https://localhost:8080/"
        },
        "id": "lUwtYL2UKqId",
        "outputId": "250e0090-0d62-4424-a5ec-584d047a5f5c"
      },
      "execution_count": null,
      "outputs": [
        {
          "output_type": "stream",
          "name": "stdout",
          "text": [
            "blue\n"
          ]
        }
      ]
    },
    {
      "cell_type": "markdown",
      "source": [
        "# **Q13. Write a code to find the minimum number in the tuple (10, 20, 5, 15).**"
      ],
      "metadata": {
        "id": "oGTzda9QKz_X"
      }
    },
    {
      "cell_type": "code",
      "source": [
        "# Creating the tuple\n",
        "numbers = (10, 20, 5, 15)\n",
        "\n",
        "# Finding the minimum number\n",
        "min_number = min(numbers)\n",
        "\n",
        "# Printing the minimum number\n",
        "print(min_number)\n"
      ],
      "metadata": {
        "colab": {
          "base_uri": "https://localhost:8080/"
        },
        "id": "894NbJWhLIuZ",
        "outputId": "10dcf9f8-71ee-4831-c8db-a4666f3b7891"
      },
      "execution_count": null,
      "outputs": [
        {
          "output_type": "stream",
          "name": "stdout",
          "text": [
            "5\n"
          ]
        }
      ]
    },
    {
      "cell_type": "markdown",
      "source": [
        "# **Q14.Write a code to find the index of the element \"cat\" in the tuple ('dog', 'cat', 'rabbit').**"
      ],
      "metadata": {
        "id": "JpKjPd4zLYB8"
      }
    },
    {
      "cell_type": "code",
      "source": [
        "# Creating the tuple\n",
        "animals = ('dog', 'cat', 'rabbit')\n",
        "\n",
        "# Finding the index of 'cat'\n",
        "index_of_cat = animals.index('cat')\n",
        "\n",
        "# Printing the index\n",
        "print(index_of_cat)\n"
      ],
      "metadata": {
        "colab": {
          "base_uri": "https://localhost:8080/"
        },
        "id": "qFN8b28hLjZ7",
        "outputId": "1ff1dbff-405a-4b7d-e142-e9f3834c4aab"
      },
      "execution_count": null,
      "outputs": [
        {
          "output_type": "stream",
          "name": "stdout",
          "text": [
            "1\n"
          ]
        }
      ]
    },
    {
      "cell_type": "markdown",
      "source": [
        "# **Q15.Write a code to create a tuple containing three different fruits and check if \"kiwi\" is in it.**"
      ],
      "metadata": {
        "id": "68pPa6rqLu3s"
      }
    },
    {
      "cell_type": "code",
      "source": [
        "# Creating a tuple with three fruits\n",
        "fruits = ('apple', 'banana', 'orange')\n",
        "\n",
        "# Checking if 'kiwi' is in the tuple\n",
        "if 'kiwi' in fruits:\n",
        "    print(\"Kiwi is in the tuple.\")\n",
        "else:\n",
        "    print(\"Kiwi is not in the tuple.\")\n"
      ],
      "metadata": {
        "colab": {
          "base_uri": "https://localhost:8080/"
        },
        "id": "ENxWemqTL73s",
        "outputId": "bb29cbe7-96e3-4d2a-b21e-909e4f381ceb"
      },
      "execution_count": null,
      "outputs": [
        {
          "output_type": "stream",
          "name": "stdout",
          "text": [
            "Kiwi is not in the tuple.\n"
          ]
        }
      ]
    },
    {
      "cell_type": "markdown",
      "source": [
        "# **Q16. Write a code to create a set with the elements 'a', 'b', 'c' and print it.**"
      ],
      "metadata": {
        "id": "GR-yUmbgMNGT"
      }
    },
    {
      "cell_type": "code",
      "source": [
        "# Creating a set\n",
        "my_set = {'a', 'b', 'c'}\n",
        "\n",
        "# Printing the set\n",
        "print(my_set)\n"
      ],
      "metadata": {
        "colab": {
          "base_uri": "https://localhost:8080/"
        },
        "id": "qM_E_PegMhJx",
        "outputId": "aeec30ca-9dcc-465d-f55a-9a8ec58f6c47"
      },
      "execution_count": null,
      "outputs": [
        {
          "output_type": "stream",
          "name": "stdout",
          "text": [
            "{'c', 'a', 'b'}\n"
          ]
        }
      ]
    },
    {
      "cell_type": "markdown",
      "source": [
        "# **Q17. Write a code to clear all elements from the set {1, 2, 3, 4, 5}.**"
      ],
      "metadata": {
        "id": "hYix5RBsMvc1"
      }
    },
    {
      "cell_type": "code",
      "source": [
        "# Creating the set\n",
        "my_set = {1, 2, 3, 4, 5}\n",
        "\n",
        "# Clearing all elements from the set\n",
        "my_set.clear()\n",
        "\n",
        "# Printing the set after clearing\n",
        "print(my_set)\n"
      ],
      "metadata": {
        "colab": {
          "base_uri": "https://localhost:8080/"
        },
        "id": "UWHlVo2ZM8hv",
        "outputId": "127a1276-a419-49d5-bc06-3b10a03484e8"
      },
      "execution_count": null,
      "outputs": [
        {
          "output_type": "stream",
          "name": "stdout",
          "text": [
            "set()\n"
          ]
        }
      ]
    },
    {
      "cell_type": "markdown",
      "source": [
        "# Q18. **Write a code to remove the element 4 from the set {1, 2, 3, 4}**"
      ],
      "metadata": {
        "id": "U-sDety1NJAL"
      }
    },
    {
      "cell_type": "code",
      "source": [
        "# Creating the set\n",
        "my_set = {1, 2, 3, 4}\n",
        "\n",
        "# Removing the element 4\n",
        "my_set.remove(4)\n",
        "\n",
        "# Printing the set after removal\n",
        "print(my_set)\n"
      ],
      "metadata": {
        "colab": {
          "base_uri": "https://localhost:8080/"
        },
        "id": "kIxIeyYUNWDc",
        "outputId": "e062df93-e229-48c4-8ac7-1c9ad2947ab3"
      },
      "execution_count": null,
      "outputs": [
        {
          "output_type": "stream",
          "name": "stdout",
          "text": [
            "{1, 2, 3}\n"
          ]
        }
      ]
    },
    {
      "cell_type": "markdown",
      "source": [
        "# **Q19.  Write a code to find the union of two sets {1, 2, 3} and {3, 4, 5}.**"
      ],
      "metadata": {
        "id": "qudNCfL4NfQN"
      }
    },
    {
      "cell_type": "code",
      "source": [
        "# Creating the sets\n",
        "set1 = {1, 2, 3}\n",
        "set2 = {3, 4, 5}\n",
        "\n",
        "# Finding the union using .union() method\n",
        "union_set = set1.union(set2)\n",
        "\n",
        "# OR using the | operator\n",
        "# union_set = set1 | set2\n",
        "\n",
        "# Printing the result\n",
        "print(union_set)\n"
      ],
      "metadata": {
        "colab": {
          "base_uri": "https://localhost:8080/"
        },
        "id": "Z8CRkr2HNzzg",
        "outputId": "a24a2cba-8c9d-4d9d-c85b-279e4b3a7070"
      },
      "execution_count": null,
      "outputs": [
        {
          "output_type": "stream",
          "name": "stdout",
          "text": [
            "{1, 2, 3, 4, 5}\n"
          ]
        }
      ]
    },
    {
      "cell_type": "markdown",
      "source": [
        "# **Q20.Write a code to find the intersection of two sets {1, 2, 3} and {2, 3, 4}.**"
      ],
      "metadata": {
        "id": "V1ezuaNrOKST"
      }
    },
    {
      "cell_type": "code",
      "source": [
        "# Creating the sets\n",
        "set1 = {1, 2, 3}\n",
        "set2 = {2, 3, 4}\n",
        "\n",
        "# Finding the intersection using .intersection() method\n",
        "intersection_set = set1.intersection(set2)\n",
        "\n",
        "# OR using the & operator\n",
        "# intersection_set = set1 & set2\n",
        "\n",
        "# Printing the result\n",
        "print(intersection_set)\n"
      ],
      "metadata": {
        "colab": {
          "base_uri": "https://localhost:8080/"
        },
        "id": "kAkcJUAaOTkd",
        "outputId": "9ad2d3a4-bd09-410b-8c2b-9716ea026e80"
      },
      "execution_count": null,
      "outputs": [
        {
          "output_type": "stream",
          "name": "stdout",
          "text": [
            "{2, 3}\n"
          ]
        }
      ]
    },
    {
      "cell_type": "markdown",
      "source": [
        "# **Q21.Write a code to create a dictionary with the keys \"name\", \"age\", and \"city\", and print it.**"
      ],
      "metadata": {
        "id": "_Sh-PH22Oo0v"
      }
    },
    {
      "cell_type": "code",
      "source": [
        "# Creating the dictionary\n",
        "my_dict = {\n",
        "    \"name\": \"John\",\n",
        "    \"age\": 25,\n",
        "    \"city\": \"New York\"\n",
        "}\n",
        "\n",
        "# Printing the dictionary\n",
        "print(my_dict)\n"
      ],
      "metadata": {
        "colab": {
          "base_uri": "https://localhost:8080/"
        },
        "id": "4YVUNn7kPTUO",
        "outputId": "eaea05e7-34e8-4c76-f861-dd81255e9ece"
      },
      "execution_count": null,
      "outputs": [
        {
          "output_type": "stream",
          "name": "stdout",
          "text": [
            "{'name': 'John', 'age': 25, 'city': 'New York'}\n"
          ]
        }
      ]
    },
    {
      "cell_type": "markdown",
      "source": [
        "# **Q22.Write a code to add a new key-value pair \"country\": \"USA\" to the dictionary {'name': 'John', 'age': 25}.**\n",
        "\n"
      ],
      "metadata": {
        "id": "L_WQZzdmqOr0"
      }
    },
    {
      "cell_type": "code",
      "source": [
        "# Creating the dictionary\n",
        "my_dict = {'name': 'John', 'age': 25}\n",
        "\n",
        "# Adding a new key-value pair\n",
        "my_dict['country'] = 'USA'\n",
        "\n",
        "# Printing the updated dictionary\n",
        "print(my_dict)\n"
      ],
      "metadata": {
        "colab": {
          "base_uri": "https://localhost:8080/"
        },
        "id": "Q6j1mmGXqfM_",
        "outputId": "26ef1f89-56fc-4fe7-cdd7-e74b5421842d"
      },
      "execution_count": null,
      "outputs": [
        {
          "output_type": "stream",
          "name": "stdout",
          "text": [
            "{'name': 'John', 'age': 25, 'country': 'USA'}\n"
          ]
        }
      ]
    },
    {
      "cell_type": "markdown",
      "source": [
        "# **Q23.Write a code to access the value associated with the key \"name\" in the dictionary {'name': 'Alice', 'age': 30}**"
      ],
      "metadata": {
        "id": "UEVaS_mjqpBQ"
      }
    },
    {
      "cell_type": "code",
      "source": [
        "# Creating the dictionary\n",
        "my_dict = {'name': 'Alice', 'age': 30}\n",
        "\n",
        "# Accessing the value using indexing\n",
        "name_value = my_dict['name']\n",
        "\n",
        "# OR using the .get() method\n",
        "# name_value = my_dict.get('name')\n",
        "\n",
        "# Printing the value\n",
        "print(name_value)\n"
      ],
      "metadata": {
        "colab": {
          "base_uri": "https://localhost:8080/"
        },
        "id": "juJ36a1MrTLU",
        "outputId": "5a362496-770f-4f8e-9b58-292a47338b41"
      },
      "execution_count": null,
      "outputs": [
        {
          "output_type": "stream",
          "name": "stdout",
          "text": [
            "Alice\n"
          ]
        }
      ]
    },
    {
      "cell_type": "markdown",
      "source": [
        "# **Q24. Write a code to remove the key \"age\" from the dictionary {'name': 'Bob', 'age': 22, 'city': 'New York'}.**"
      ],
      "metadata": {
        "id": "47f1POsFrjH8"
      }
    },
    {
      "cell_type": "code",
      "source": [
        "# Creating the dictionary\n",
        "my_dict = {'name': 'Bob', 'age': 22, 'city': 'New York'}\n",
        "\n",
        "# Removing the key \"age\" using .pop()\n",
        "my_dict.pop('age')\n",
        "\n",
        "# OR using del statement\n",
        "# del my_dict['age']\n",
        "\n",
        "# Printing the updated dictionary\n",
        "print(my_dict)\n"
      ],
      "metadata": {
        "colab": {
          "base_uri": "https://localhost:8080/"
        },
        "id": "WEJlEj0nrwTm",
        "outputId": "7fbd88fa-dc4f-4bd3-faeb-14f0201a82ee"
      },
      "execution_count": null,
      "outputs": [
        {
          "output_type": "stream",
          "name": "stdout",
          "text": [
            "{'name': 'Bob', 'city': 'New York'}\n"
          ]
        }
      ]
    },
    {
      "cell_type": "markdown",
      "source": [
        "# **Q25.Write a code to check if the key \"city\" exists in the dictionary {'name': 'Alice', 'city': 'Paris'}**"
      ],
      "metadata": {
        "id": "4PdXmQr8r-P1"
      }
    },
    {
      "cell_type": "code",
      "source": [
        "# Creating the dictionary\n",
        "my_dict = {'name': 'Alice', 'city': 'Paris'}\n",
        "\n",
        "# Checking if the key \"city\" exists\n",
        "if 'city' in my_dict:\n",
        "    print(\"The key 'city' exists in the dictionary.\")\n",
        "else:\n",
        "    print(\"The key 'city' does not exist in the dictionary.\")\n"
      ],
      "metadata": {
        "colab": {
          "base_uri": "https://localhost:8080/"
        },
        "id": "fucwriN2sOZ2",
        "outputId": "ff8a7e10-dbfa-468f-9638-89d48bd76e29"
      },
      "execution_count": null,
      "outputs": [
        {
          "output_type": "stream",
          "name": "stdout",
          "text": [
            "The key 'city' exists in the dictionary.\n"
          ]
        }
      ]
    },
    {
      "cell_type": "markdown",
      "source": [
        "# **Q26. Write a code to create a list, a tuple, and a dictionary, and print them all.**"
      ],
      "metadata": {
        "id": "p7mfzP4CsdCC"
      }
    },
    {
      "cell_type": "code",
      "source": [
        "# Creating a list\n",
        "my_list = [1, 2, 3, 4, 5]\n",
        "\n",
        "# Creating a tuple\n",
        "my_tuple = ('apple', 'banana', 'cherry')\n",
        "\n",
        "# Creating a dictionary\n",
        "my_dict = {'name': 'Alice', 'age': 25, 'city': 'New York'}\n",
        "\n",
        "# Printing the list, tuple, and dictionary\n",
        "print(\"List:\", my_list)\n",
        "print(\"Tuple:\", my_tuple)\n",
        "print(\"Dictionary:\", my_dict)\n"
      ],
      "metadata": {
        "colab": {
          "base_uri": "https://localhost:8080/"
        },
        "id": "ugUfWzI4sqDF",
        "outputId": "c95a9a00-8376-405c-ba78-269a7edec7f2"
      },
      "execution_count": null,
      "outputs": [
        {
          "output_type": "stream",
          "name": "stdout",
          "text": [
            "List: [1, 2, 3, 4, 5]\n",
            "Tuple: ('apple', 'banana', 'cherry')\n",
            "Dictionary: {'name': 'Alice', 'age': 25, 'city': 'New York'}\n"
          ]
        }
      ]
    },
    {
      "cell_type": "markdown",
      "source": [
        "# **Q27.Write a code to create a list of 5 random numbers between 1 and 100, sort it in ascending order, and print theresult.(replaced)**\n"
      ],
      "metadata": {
        "id": "K4xOy8bOtbxU"
      }
    },
    {
      "cell_type": "code",
      "source": [
        "import random\n",
        "\n",
        "# Generating a list of 5 random numbers between 1 and 100\n",
        "random_numbers = [random.randint(1, 100) for _ in range(5)]\n",
        "\n",
        "# Sorting the list in ascending order\n",
        "random_numbers.sort()\n",
        "\n",
        "# Printing the sorted list\n",
        "print(\"Sorted Random Numbers:\", random_numbers)\n"
      ],
      "metadata": {
        "colab": {
          "base_uri": "https://localhost:8080/"
        },
        "id": "me9Tmo1Xufhh",
        "outputId": "7aa34c7f-655c-4ada-8ff2-c839adc41346"
      },
      "execution_count": null,
      "outputs": [
        {
          "output_type": "stream",
          "name": "stdout",
          "text": [
            "Sorted Random Numbers: [9, 14, 32, 34, 45]\n"
          ]
        }
      ]
    },
    {
      "cell_type": "markdown",
      "source": [
        "# **Q28.Write a code to create a list with strings and print the element at the third index.**"
      ],
      "metadata": {
        "id": "F73CLfoDunYP"
      }
    },
    {
      "cell_type": "code",
      "source": [
        "# Creating a list with strings\n",
        "my_list = [\"apple\", \"banana\", \"cherry\", \"date\", \"elderberry\"]\n",
        "\n",
        "# Printing the element at the third index (index 3)\n",
        "print(\"Element at third index:\", my_list[3])\n"
      ],
      "metadata": {
        "colab": {
          "base_uri": "https://localhost:8080/"
        },
        "id": "QA8oX10tvBOH",
        "outputId": "bc3d60df-4674-46b8-abe2-6096db350490"
      },
      "execution_count": null,
      "outputs": [
        {
          "output_type": "stream",
          "name": "stdout",
          "text": [
            "Element at third index: date\n"
          ]
        }
      ]
    },
    {
      "cell_type": "markdown",
      "source": [
        "# **Q29.Write a code to combine two dictionaries into one and print the result.**\n",
        "\n"
      ],
      "metadata": {
        "id": "Mz0-6PXEvQaX"
      }
    },
    {
      "cell_type": "code",
      "source": [
        "# Creating two dictionaries\n",
        "dict1 = {'a': 1, 'b': 2}\n",
        "dict2 = {'c': 3, 'd': 4}\n",
        "\n",
        "# Combining the dictionaries using update() method\n",
        "combined_dict = dict1.copy()  # Create a copy to avoid modifying dict1\n",
        "combined_dict.update(dict2)\n",
        "\n",
        "# OR using the | operator (Python 3.9+)\n",
        "# combined_dict = dict1 | dict2\n",
        "\n",
        "# Printing the combined dictionary\n",
        "print(\"Combined Dictionary:\", combined_dict)\n"
      ],
      "metadata": {
        "colab": {
          "base_uri": "https://localhost:8080/"
        },
        "id": "dxjRT5Oxvo8d",
        "outputId": "2e50531c-d35f-4fe7-d07b-e778ebb359ac"
      },
      "execution_count": null,
      "outputs": [
        {
          "output_type": "stream",
          "name": "stdout",
          "text": [
            "Combined Dictionary: {'a': 1, 'b': 2, 'c': 3, 'd': 4}\n"
          ]
        }
      ]
    },
    {
      "cell_type": "markdown",
      "source": [
        "# **Q30. Write a code to convert a list of strings into a set.**"
      ],
      "metadata": {
        "id": "-FXvUzBCv1Se"
      }
    },
    {
      "cell_type": "code",
      "source": [
        "# Creating a list of strings\n",
        "my_list = [\"apple\", \"banana\", \"cherry\", \"apple\", \"banana\"]\n",
        "\n",
        "# Converting the list into a set\n",
        "my_set = set(my_list)\n",
        "\n",
        "# Printing the set\n",
        "print(\"Set:\", my_set)\n"
      ],
      "metadata": {
        "colab": {
          "base_uri": "https://localhost:8080/"
        },
        "id": "ggic1D7dwAn3",
        "outputId": "e2cc8591-a05e-4dce-da16-2a45c73b65fa"
      },
      "execution_count": null,
      "outputs": [
        {
          "output_type": "stream",
          "name": "stdout",
          "text": [
            "Set: {'cherry', 'apple', 'banana'}\n"
          ]
        }
      ]
    }
  ]
}